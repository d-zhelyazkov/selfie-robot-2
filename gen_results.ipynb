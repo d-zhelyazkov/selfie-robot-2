{
 "cells": [
  {
   "cell_type": "code",
   "execution_count": 1,
   "metadata": {
    "collapsed": true
   },
   "outputs": [],
   "source": [
    "from pathlib import Path\n",
    "\n",
    "from tools import draw_points, read_json_file\n",
    "\n",
    "IMGS_DIR = Path(\"/mnt/data/robot_imgs/21_08_29/\")"
   ]
  },
  {
   "cell_type": "code",
   "execution_count": 2,
   "outputs": [],
   "source": [
    "data_files = list(IMGS_DIR.glob(\"*.json\"))\n"
   ],
   "metadata": {
    "collapsed": false,
    "pycharm": {
     "name": "#%%\n"
    }
   }
  },
  {
   "cell_type": "code",
   "execution_count": 5,
   "outputs": [
    {
     "data": {
      "text/plain": "{'blue_pts': [[436.4228515625, 134.16879272460938],\n  [503.3922119140625, 132.42083740234375]],\n 'red_pts': [[467.94183349609375, 123.93333435058594]],\n 'robot': {'pos': {'x': 121.9507716730526, 'y': -372.81858809804726},\n  'angle': -19.608299637736792,\n  'dist': 58.552691370513124}}"
     },
     "execution_count": 5,
     "metadata": {},
     "output_type": "execute_result"
    }
   ],
   "source": [
    "read_json_file(data_files[0])"
   ],
   "metadata": {
    "collapsed": false,
    "pycharm": {
     "name": "#%%\n"
    }
   }
  },
  {
   "cell_type": "code",
   "execution_count": 3,
   "outputs": [],
   "source": [
    "import cv2\n",
    "\n",
    "\n",
    "def gen_result(img_data_file: Path):\n",
    "    data = read_json_file(img_data_file)\n",
    "\n",
    "    img_filename = img_data_file.stem + \".jpg\"\n",
    "    img = cv2.imread(str(img_data_file.parent / img_filename))\n",
    "\n",
    "    result_img = draw_points(img, data[\"blue_pts\"] + data[\"red_pts\"])\n",
    "\n",
    "    res_dir = img_data_file.parent / \"results/\"\n",
    "    res_dir.mkdir(exist_ok=True)\n",
    "\n",
    "    cv2.imwrite(str(res_dir / img_filename), result_img)\n",
    "\n",
    "\n",
    "gen_result(data_files[0])\n"
   ],
   "metadata": {
    "collapsed": false,
    "pycharm": {
     "name": "#%%\n"
    }
   }
  },
  {
   "cell_type": "code",
   "execution_count": 4,
   "outputs": [],
   "source": [
    "for file_ in data_files:\n",
    "    gen_result(file_)\n",
    "\n"
   ],
   "metadata": {
    "collapsed": false,
    "pycharm": {
     "name": "#%%\n"
    }
   }
  }
 ],
 "metadata": {
  "kernelspec": {
   "display_name": "Python 3",
   "language": "python",
   "name": "python3"
  },
  "language_info": {
   "codemirror_mode": {
    "name": "ipython",
    "version": 2
   },
   "file_extension": ".py",
   "mimetype": "text/x-python",
   "name": "python",
   "nbconvert_exporter": "python",
   "pygments_lexer": "ipython2",
   "version": "2.7.6"
  }
 },
 "nbformat": 4,
 "nbformat_minor": 0
}